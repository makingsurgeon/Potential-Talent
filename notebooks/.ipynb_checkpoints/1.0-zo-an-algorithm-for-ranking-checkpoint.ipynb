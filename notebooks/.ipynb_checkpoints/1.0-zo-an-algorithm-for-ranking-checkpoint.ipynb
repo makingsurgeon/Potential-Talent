{
 "cells": [
  {
   "cell_type": "code",
   "execution_count": 1,
   "id": "b68983e4-77a5-4ca6-aaed-c3ed5847b85a",
   "metadata": {},
   "outputs": [],
   "source": [
    "import pandas as pd"
   ]
  },
  {
   "cell_type": "markdown",
   "id": "d16b69c9-3254-4398-9960-7bb10c8eb5ec",
   "metadata": {},
   "source": [
    "### Clean data"
   ]
  },
  {
   "cell_type": "code",
   "execution_count": 6,
   "id": "8f9320b2-3f32-4a09-9959-db09b74c2777",
   "metadata": {},
   "outputs": [],
   "source": [
    "a = pd.read_csv(\"potential-talents - Aspiring human resources - seeking human resources.csv\", header = 0)"
   ]
  },
  {
   "cell_type": "code",
   "execution_count": 7,
   "id": "dbe8904f-186e-4d1a-b69c-f093951c6a40",
   "metadata": {},
   "outputs": [],
   "source": [
    "b = a[\"job_title\"].str.replace('HR', 'Human Resources', regex=True)"
   ]
  },
  {
   "cell_type": "markdown",
   "id": "5ec040a9-27ba-4ed9-b6b6-0ee3e0ce3b5b",
   "metadata": {},
   "source": [
    "### Compuute normalized tf-idf score"
   ]
  },
  {
   "cell_type": "code",
   "execution_count": 8,
   "id": "48303df7-65a0-45f5-928d-6b3b9664e815",
   "metadata": {},
   "outputs": [],
   "source": [
    "c = []\n",
    "for i in range(len(b)):\n",
    "    c.append(b[i])"
   ]
  },
  {
   "cell_type": "code",
   "execution_count": 9,
   "id": "3a82dc5c-1195-4eb3-a2b6-aa5432693c34",
   "metadata": {},
   "outputs": [],
   "source": [
    "from sklearn.feature_extraction.text import TfidfVectorizer"
   ]
  },
  {
   "cell_type": "code",
   "execution_count": 10,
   "id": "ead2084b-ff72-4e27-b54a-adda4671d862",
   "metadata": {},
   "outputs": [],
   "source": [
    "vect = TfidfVectorizer(min_df=1, stop_words=\"english\") "
   ]
  },
  {
   "cell_type": "code",
   "execution_count": 11,
   "id": "7285f6c4-2f19-4076-99ff-f020cbf36ee0",
   "metadata": {},
   "outputs": [],
   "source": [
    "c.append(\"Aspiring human resources\")\n",
    "c.append(\"seeking human resources\")"
   ]
  },
  {
   "cell_type": "code",
   "execution_count": 12,
   "id": "2fd7d510-d2a3-4279-8941-8e4ce74e0898",
   "metadata": {},
   "outputs": [],
   "source": [
    "tfidf = vect.fit_transform(c) "
   ]
  },
  {
   "cell_type": "code",
   "execution_count": 13,
   "id": "59144b10-258a-40a3-b560-4e151c5f68d1",
   "metadata": {},
   "outputs": [],
   "source": [
    "pairwise_similarity = tfidf * tfidf.T"
   ]
  },
  {
   "cell_type": "code",
   "execution_count": 14,
   "id": "ea71b3f3-bcb6-4034-a8a2-d8dfb118c3a5",
   "metadata": {},
   "outputs": [],
   "source": [
    "r = pairwise_similarity[-2:, :].toarray()"
   ]
  },
  {
   "cell_type": "code",
   "execution_count": 15,
   "id": "0dd85ffd-8a4f-47c3-8662-8ce5a2ac9df0",
   "metadata": {},
   "outputs": [],
   "source": [
    "r1 = r[0]\n",
    "r2 = r[1]"
   ]
  },
  {
   "cell_type": "code",
   "execution_count": 16,
   "id": "11b56e73-ecd2-4e03-987e-b6e51034bcb7",
   "metadata": {},
   "outputs": [],
   "source": [
    "r1 = r1[:104]"
   ]
  },
  {
   "cell_type": "code",
   "execution_count": 17,
   "id": "07468002-5f02-4c26-a416-df7f90894277",
   "metadata": {},
   "outputs": [],
   "source": [
    "r2 = r2[:104]"
   ]
  },
  {
   "cell_type": "markdown",
   "id": "5404fc05-f402-45a5-a7a3-dd4cfde964e4",
   "metadata": {},
   "source": [
    "r3 is the final score for the job similarity part, in which the tf-idf score is added together for the two prompts."
   ]
  },
  {
   "cell_type": "code",
   "execution_count": 18,
   "id": "cea221c9-2889-47f8-8562-fadd74a33ec6",
   "metadata": {},
   "outputs": [],
   "source": [
    "r3 = r1+r2"
   ]
  },
  {
   "cell_type": "markdown",
   "id": "dd2d061a-101c-4b74-897f-53696fc1f457",
   "metadata": {},
   "source": [
    "### Connect ranking"
   ]
  },
  {
   "cell_type": "code",
   "execution_count": 19,
   "id": "2a53347c-7f4e-46a2-884a-e3bf57b901df",
   "metadata": {},
   "outputs": [],
   "source": [
    "d = a[\"connection\"].str.replace('500+ ', '500', regex=False)"
   ]
  },
  {
   "cell_type": "code",
   "execution_count": 20,
   "id": "8e2af3cf-0f2c-4bbe-ae27-b107be85f35c",
   "metadata": {},
   "outputs": [],
   "source": [
    "d = d.astype(\"int\")"
   ]
  },
  {
   "cell_type": "code",
   "execution_count": 21,
   "id": "4f850a71-b783-4fcb-affe-17322853d235",
   "metadata": {},
   "outputs": [],
   "source": [
    "e = []\n",
    "for i in range(len(d)):\n",
    "    if d[i] == 500:\n",
    "        e.append(len(d))\n",
    "    else:\n",
    "        e.append(d[i]/500*len(d))"
   ]
  },
  {
   "cell_type": "code",
   "execution_count": 22,
   "id": "e6697a5d-c575-4597-b944-840f3f6df1d8",
   "metadata": {},
   "outputs": [],
   "source": [
    "import scipy.stats as ss"
   ]
  },
  {
   "cell_type": "code",
   "execution_count": 23,
   "id": "ba410b57-3c55-443a-a2ba-61cd2f38037e",
   "metadata": {},
   "outputs": [],
   "source": [
    "e1 = ss.rankdata(r3)"
   ]
  },
  {
   "cell_type": "code",
   "execution_count": 24,
   "id": "bd1d6a92-5c9d-42ce-9498-75de3292f48f",
   "metadata": {},
   "outputs": [],
   "source": [
    "final_r = e1+e"
   ]
  },
  {
   "cell_type": "code",
   "execution_count": 25,
   "id": "9deb3469-81d3-4200-9454-bc558659d71a",
   "metadata": {},
   "outputs": [],
   "source": [
    "e2 = ss.rankdata(final_r)"
   ]
  },
  {
   "cell_type": "code",
   "execution_count": 26,
   "id": "2c1719f5-8ad3-45a8-9682-3caa4ec452c0",
   "metadata": {},
   "outputs": [
    {
     "data": {
      "text/plain": [
       "array([ 23. ,  63.5,  50.5,  63.5,  63.5,  40. ,  34. ,  96. ,  34. ,\n",
       "       100.5,   2.5,  77.5,  82.5,  23. ,  23. ,  63.5,  50.5,  63.5,\n",
       "        23. ,  63.5,  50.5,  63.5,  63.5,  40. ,  34. ,  96. , 103.5,\n",
       "        92.5, 103.5,  92.5,  23. ,  63.5,  50.5,  63.5,  63.5,  40. ,\n",
       "        34. ,  96. ,  34. , 100.5,   2.5,  77.5,  82.5,  23. ,  63.5,\n",
       "        50.5,  63.5,  63.5,  40. ,  34. ,  96. ,  34. , 100.5,   2.5,\n",
       "        77.5,  82.5,  23. ,  50.5,  63.5,  40. ,  96. , 100.5,   2.5,\n",
       "        77.5,  82.5,  28. ,  85. ,  88. ,  80. ,  18. ,  90. ,  27. ,\n",
       "        47. ,  29. ,  86. ,  30. ,  73. ,  90. ,  17. ,  12. ,  75. ,\n",
       "        43. ,  44. ,  16. ,  63.5,   5.5,  10. ,  19. ,  74. ,  14. ,\n",
       "         9. ,  15. ,   7. ,  87. ,  13. ,   8. ,  54. ,   5.5,  45. ,\n",
       "        46. ,  90. ,  11. ,  63.5,  63.5])"
      ]
     },
     "execution_count": 26,
     "metadata": {},
     "output_type": "execute_result"
    }
   ],
   "source": [
    "e2"
   ]
  },
  {
   "cell_type": "code",
   "execution_count": 33,
   "id": "7a7875ed-dcba-4bf8-87cd-04d341aa5791",
   "metadata": {},
   "outputs": [],
   "source": [
    "ind = sorted(range(len(e2)), key=lambda i: e2[i])[-10:]"
   ]
  },
  {
   "cell_type": "code",
   "execution_count": 34,
   "id": "3a64dd73-80d3-474a-84c7-1e743118faa0",
   "metadata": {},
   "outputs": [
    {
     "data": {
      "text/plain": [
       "[25, 37, 50, 60, 9, 39, 52, 61, 26, 28]"
      ]
     },
     "execution_count": 34,
     "metadata": {},
     "output_type": "execute_result"
    }
   ],
   "source": [
    "ind"
   ]
  },
  {
   "cell_type": "code",
   "execution_count": 35,
   "id": "1d26f5b1-162e-4d63-8451-5188d5c5c6b6",
   "metadata": {},
   "outputs": [],
   "source": [
    "import numpy as np\n",
    "c = np.array(c)\n",
    "titles = c[ind]"
   ]
  },
  {
   "cell_type": "code",
   "execution_count": 36,
   "id": "0fed705a-1c42-44b0-8bbb-7e7ae35a9bd9",
   "metadata": {},
   "outputs": [
    {
     "data": {
      "text/plain": [
       "array(['Human Resources Senior Specialist',\n",
       "       'Human Resources Senior Specialist',\n",
       "       'Human Resources Senior Specialist',\n",
       "       'Human Resources Senior Specialist',\n",
       "       'Seeking Human Resources Human ResourcesIS and Generalist Positions',\n",
       "       'Seeking Human Resources Human ResourcesIS and Generalist Positions',\n",
       "       'Seeking Human Resources Human ResourcesIS and Generalist Positions',\n",
       "       'Seeking Human Resources Human ResourcesIS and Generalist Positions',\n",
       "       'Aspiring Human Resources Management student seeking an internship',\n",
       "       'Aspiring Human Resources Management student seeking an internship'],\n",
       "      dtype='<U146')"
      ]
     },
     "execution_count": 36,
     "metadata": {},
     "output_type": "execute_result"
    }
   ],
   "source": [
    "titles"
   ]
  },
  {
   "cell_type": "code",
   "execution_count": 45,
   "id": "6e10e903-c6b9-440a-a054-b32fb6c2a2e7",
   "metadata": {},
   "outputs": [],
   "source": [
    "v1 = pairwise_similarity[7,:].toarray()"
   ]
  },
  {
   "cell_type": "code",
   "execution_count": 50,
   "id": "40c624fb-faa3-4528-b355-8c3f4d0208a5",
   "metadata": {},
   "outputs": [],
   "source": [
    "v1 = v1[0][:104]"
   ]
  },
  {
   "cell_type": "code",
   "execution_count": 51,
   "id": "c1a13be5-01ab-4cf6-92b5-46e8364d49b2",
   "metadata": {},
   "outputs": [
    {
     "data": {
      "text/plain": [
       "array([0.07053719, 0.        , 0.1919098 , 0.        , 0.        ,\n",
       "       0.61327172, 0.10897634, 1.        , 0.10897634, 0.14630621,\n",
       "       0.        , 0.04798383, 0.09298207, 0.07053719, 0.07053719,\n",
       "       0.        , 0.1919098 , 0.        , 0.07053719, 0.        ,\n",
       "       0.1919098 , 0.        , 0.        , 0.61327172, 0.10897634,\n",
       "       1.        , 0.09904619, 0.13956892, 0.09904619, 0.13956892,\n",
       "       0.07053719, 0.        , 0.1919098 , 0.        , 0.        ,\n",
       "       0.61327172, 0.10897634, 1.        , 0.10897634, 0.14630621,\n",
       "       0.        , 0.04798383, 0.09298207, 0.07053719, 0.        ,\n",
       "       0.1919098 , 0.        , 0.        , 0.61327172, 0.10897634,\n",
       "       1.        , 0.10897634, 0.14630621, 0.        , 0.04798383,\n",
       "       0.09298207, 0.07053719, 0.1919098 , 0.        , 0.61327172,\n",
       "       1.        , 0.14630621, 0.        , 0.04798383, 0.09298207,\n",
       "       0.08675925, 0.09905839, 0.41791391, 0.06984249, 0.05374563,\n",
       "       0.12164105, 0.0934696 , 0.19358172, 0.22652532, 0.05183297,\n",
       "       0.0542269 , 0.05161153, 0.12164105, 0.0741389 , 0.        ,\n",
       "       0.33566969, 0.07089169, 0.07158273, 0.07229773, 0.        ,\n",
       "       0.15017567, 0.        , 0.12384567, 0.10855366, 0.        ,\n",
       "       0.        , 0.        , 0.        , 0.07343331, 0.        ,\n",
       "       0.        , 0.1919098 , 0.        , 0.13521544, 0.10328538,\n",
       "       0.12164105, 0.        , 0.        , 0.        ])"
      ]
     },
     "execution_count": 51,
     "metadata": {},
     "output_type": "execute_result"
    }
   ],
   "source": [
    "v1"
   ]
  },
  {
   "cell_type": "code",
   "execution_count": 44,
   "id": "90321d35-1de3-418d-be98-c348275ef72e",
   "metadata": {},
   "outputs": [
    {
     "data": {
      "text/plain": [
       "106"
      ]
     },
     "execution_count": 44,
     "metadata": {},
     "output_type": "execute_result"
    }
   ],
   "source": [
    "len(v2)"
   ]
  },
  {
   "cell_type": "code",
   "execution_count": 52,
   "id": "ff37c984-3293-4925-b26d-07c1cc0427e8",
   "metadata": {},
   "outputs": [],
   "source": [
    "v2 = ss.rankdata(v1)"
   ]
  },
  {
   "cell_type": "code",
   "execution_count": 53,
   "id": "caef3a42-ce44-4ac1-9812-8159ac4473f3",
   "metadata": {},
   "outputs": [
    {
     "data": {
      "text/plain": [
       "array([ 45. ,  16.5,  87. ,  16.5,  16.5,  97. ,  68. , 102. ,  68. ,\n",
       "        80.5,  16.5,  34.5,  56.5,  45. ,  45. ,  16.5,  87. ,  16.5,\n",
       "        45. ,  16.5,  87. ,  16.5,  16.5,  97. ,  68. , 102. ,  60.5,\n",
       "        77.5,  60.5,  77.5,  45. ,  16.5,  87. ,  16.5,  16.5,  97. ,\n",
       "        68. , 102. ,  68. ,  80.5,  16.5,  34.5,  56.5,  45. ,  16.5,\n",
       "        87. ,  16.5,  16.5,  97. ,  68. , 102. ,  68. ,  80.5,  16.5,\n",
       "        34.5,  56.5,  45. ,  87. ,  16.5,  97. , 102. ,  80.5,  16.5,\n",
       "        34.5,  56.5,  54. ,  62. ,  94. ,  41. ,  39. ,  73. ,  59. ,\n",
       "        91. ,  92. ,  38. ,  40. ,  37. ,  73. ,  53. ,  16.5,  93. ,\n",
       "        49. ,  50. ,  51. ,  16.5,  83. ,  16.5,  75. ,  64. ,  16.5,\n",
       "        16.5,  16.5,  16.5,  52. ,  16.5,  16.5,  87. ,  16.5,  76. ,\n",
       "        63. ,  73. ,  16.5,  16.5,  16.5])"
      ]
     },
     "execution_count": 53,
     "metadata": {},
     "output_type": "execute_result"
    }
   ],
   "source": [
    "v2"
   ]
  },
  {
   "cell_type": "code",
   "execution_count": 54,
   "id": "b05a610a-caab-407b-8867-c820b0074169",
   "metadata": {},
   "outputs": [],
   "source": [
    "final_r1 = v2+e"
   ]
  },
  {
   "cell_type": "code",
   "execution_count": 110,
   "id": "3fa8b1a9-bb72-4703-b8e7-8af47e187a82",
   "metadata": {},
   "outputs": [
    {
     "data": {
      "text/plain": [
       "array([ 62.68 , 120.5  ,  96.152, 120.5  , 120.5  ,  97.208,  80.688,\n",
       "       206.   ,  80.688, 184.5  ,  16.916, 138.5  , 160.5  ,  62.68 ,\n",
       "        62.68 , 120.5  ,  96.152, 120.5  ,  62.68 , 120.5  ,  96.152,\n",
       "       120.5  , 120.5  ,  97.208,  80.688, 206.   , 164.5  , 158.62 ,\n",
       "       164.5  , 158.62 ,  62.68 , 120.5  ,  96.152, 120.5  , 120.5  ,\n",
       "        97.208,  80.688, 206.   ,  80.688, 184.5  ,  16.916, 138.5  ,\n",
       "       160.5  ,  62.68 , 120.5  ,  96.152, 120.5  , 120.5  ,  97.208,\n",
       "        80.688, 206.   ,  80.688, 184.5  ,  16.916, 138.5  , 160.5  ,\n",
       "        62.68 ,  96.152, 120.5  ,  97.208, 206.   , 184.5  ,  16.916,\n",
       "       138.5  , 160.5  ,  65.856, 166.   , 198.   , 145.   ,  56.056,\n",
       "       177.   ,  60.04 ,  92.456,  95.328, 142.   ,  84.096, 122.072,\n",
       "       177.   ,  54.456,  27.316, 187.64 ,  85.192, 105.744,  61.4  ,\n",
       "       120.5  ,  83.832,  24.82 ,  78.744, 136.592,  48.74 ,  24.612,\n",
       "        29.812,  18.372, 138.32 ,  28.356,  20.452, 101.768,  17.332,\n",
       "        85.984,  84.424, 177.   ,  26.692, 120.5  , 120.5  ])"
      ]
     },
     "execution_count": 110,
     "metadata": {},
     "output_type": "execute_result"
    }
   ],
   "source": [
    "final_r1"
   ]
  },
  {
   "cell_type": "code",
   "execution_count": 56,
   "id": "614a3d61-dbb5-45d7-b041-3e63dabc3ff0",
   "metadata": {},
   "outputs": [
    {
     "data": {
      "text/plain": [
       "array([ 22. ,  63.5,  44.5,  63.5,  63.5,  50. ,  31. , 102. ,  31. ,\n",
       "        95.5,   2.5,  77.5,  85.5,  22. ,  22. ,  63.5,  44.5,  63.5,\n",
       "        22. ,  63.5,  44.5,  63.5,  63.5,  50. ,  31. , 102. ,  88.5,\n",
       "        82.5,  88.5,  82.5,  22. ,  63.5,  44.5,  63.5,  63.5,  50. ,\n",
       "        31. , 102. ,  31. ,  95.5,   2.5,  77.5,  85.5,  22. ,  63.5,\n",
       "        44.5,  63.5,  63.5,  50. ,  31. , 102. ,  31. ,  95.5,   2.5,\n",
       "        77.5,  85.5,  22. ,  44.5,  63.5,  50. , 102. ,  95.5,   2.5,\n",
       "        77.5,  85.5,  26. ,  90. ,  99. ,  81. ,  16. ,  92. ,  17. ,\n",
       "        40. ,  41. ,  80. ,  36. ,  73. ,  92. ,  15. ,  11. ,  98. ,\n",
       "        38. ,  54. ,  18. ,  63.5,  35. ,   9. ,  27. ,  74. ,  14. ,\n",
       "         8. ,  13. ,   6. ,  75. ,  12. ,   7. ,  53. ,   5. ,  39. ,\n",
       "        37. ,  92. ,  10. ,  63.5,  63.5])"
      ]
     },
     "execution_count": 56,
     "metadata": {},
     "output_type": "execute_result"
    }
   ],
   "source": [
    "ss.rankdata(final_r1)"
   ]
  },
  {
   "cell_type": "code",
   "execution_count": 57,
   "id": "94340911-42dd-4159-86e9-d289b3235ced",
   "metadata": {},
   "outputs": [],
   "source": [
    "final_r1[7] = 208"
   ]
  },
  {
   "cell_type": "code",
   "execution_count": 58,
   "id": "7f469305-8302-4b04-b065-1d5bf6df8c2e",
   "metadata": {},
   "outputs": [],
   "source": [
    "t = ss.rankdata(final_r1)"
   ]
  },
  {
   "cell_type": "code",
   "execution_count": 63,
   "id": "339406a6-ec2e-4d40-a530-93d456836c07",
   "metadata": {},
   "outputs": [],
   "source": [
    "ind1 = sorted(range(len(t)), key=lambda i: t[i])[-11:]"
   ]
  },
  {
   "cell_type": "code",
   "execution_count": 64,
   "id": "191265c3-97ee-4df0-8a5f-fbfa2da12053",
   "metadata": {},
   "outputs": [
    {
     "data": {
      "text/plain": [
       "[9, 39, 52, 61, 80, 67, 25, 37, 50, 60, 7]"
      ]
     },
     "execution_count": 64,
     "metadata": {},
     "output_type": "execute_result"
    }
   ],
   "source": [
    "ind1"
   ]
  },
  {
   "cell_type": "code",
   "execution_count": 65,
   "id": "d6d2d5d8-525b-4d29-a3eb-a0fcc4379b81",
   "metadata": {},
   "outputs": [],
   "source": [
    "ind2 = ind1.pop()"
   ]
  },
  {
   "cell_type": "code",
   "execution_count": 66,
   "id": "77690df6-f3d4-4221-b248-edeced4e5183",
   "metadata": {},
   "outputs": [
    {
     "data": {
      "text/plain": [
       "[9, 39, 52, 61, 80, 67, 25, 37, 50, 60]"
      ]
     },
     "execution_count": 66,
     "metadata": {},
     "output_type": "execute_result"
    }
   ],
   "source": [
    "ind1"
   ]
  },
  {
   "cell_type": "code",
   "execution_count": 69,
   "id": "4a71a49e-5ade-43ab-9b62-a1009d2e3dbb",
   "metadata": {},
   "outputs": [],
   "source": [
    "titles1 = c[ind1]"
   ]
  },
  {
   "cell_type": "code",
   "execution_count": 70,
   "id": "68acabe3-321e-41e7-8272-c9b5775a13bd",
   "metadata": {},
   "outputs": [
    {
     "data": {
      "text/plain": [
       "array(['Seeking Human Resources Human ResourcesIS and Generalist Positions',\n",
       "       'Seeking Human Resources Human ResourcesIS and Generalist Positions',\n",
       "       'Seeking Human Resources Human ResourcesIS and Generalist Positions',\n",
       "       'Seeking Human Resources Human ResourcesIS and Generalist Positions',\n",
       "       'Senior Human Resources Business Partner at Heil Environmental',\n",
       "       'Human Resources Specialist at Luxottica',\n",
       "       'Human Resources Senior Specialist',\n",
       "       'Human Resources Senior Specialist',\n",
       "       'Human Resources Senior Specialist',\n",
       "       'Human Resources Senior Specialist'], dtype='<U146')"
      ]
     },
     "execution_count": 70,
     "metadata": {},
     "output_type": "execute_result"
    }
   ],
   "source": [
    "titles1"
   ]
  },
  {
   "cell_type": "code",
   "execution_count": null,
   "id": "5a1d7eda-8c28-4a09-bb02-4d005630a8c9",
   "metadata": {},
   "outputs": [],
   "source": []
  }
 ],
 "metadata": {
  "kernelspec": {
   "display_name": "Python 3 (ipykernel)",
   "language": "python",
   "name": "python3"
  },
  "language_info": {
   "codemirror_mode": {
    "name": "ipython",
    "version": 3
   },
   "file_extension": ".py",
   "mimetype": "text/x-python",
   "name": "python",
   "nbconvert_exporter": "python",
   "pygments_lexer": "ipython3",
   "version": "3.8.17"
  }
 },
 "nbformat": 4,
 "nbformat_minor": 5
}
