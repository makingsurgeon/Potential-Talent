{
 "cells": [
  {
   "cell_type": "code",
   "execution_count": 5,
   "id": "99da190b",
   "metadata": {},
   "outputs": [],
   "source": [
    "import pandas as pd\n",
    "from sklearn.model_selection import KFold\n",
    "from sklearn.ensemble import RandomForestClassifier\n",
    "from sklearn.metrics import f1_score\n",
    "from sklearn.metrics import confusion_matrix"
   ]
  },
  {
   "cell_type": "code",
   "execution_count": 6,
   "id": "100058a3",
   "metadata": {},
   "outputs": [],
   "source": [
    "a = pd.read_csv(\"term-deposit-marketing-2020.csv\")\n",
    "a['job'].replace(['management', 'technician', 'entrepreneur', 'blue-collar',\n",
    "       'unknown', 'retired', 'admin', 'services', 'self-employed',\n",
    "       'unemployed', 'housemaid', 'student'],\n",
    "                        [0, 1, 2, 3, 4, 5, 6, 7, 8, 9, 10, 11], inplace=True)\n",
    "a['marital'].replace(['married', 'single', 'divorced'],\n",
    "                        [0, 1, 2], inplace=True)\n",
    "a['education'].replace(['tertiary', 'secondary', 'unknown', 'primary'],\n",
    "                        [0, 1, 2, 3], inplace=True)\n",
    "a['default'].replace(['no', 'yes'],\n",
    "                        [0, 1], inplace=True)\n",
    "a['housing'].replace(['no', 'yes'],\n",
    "                        [0, 1], inplace=True)\n",
    "a['loan'].replace(['no', 'yes'],\n",
    "                        [0, 1], inplace=True)\n",
    "a['contact'].replace(['unknown', 'cellular', 'telephone'],\n",
    "                        [0, 1, 2], inplace=True)\n",
    "a['month'].replace(['may', 'jun', 'jul', 'aug', 'oct', 'nov', 'dec', 'jan', 'feb',\n",
    "       'mar', 'apr'],\n",
    "                        [5, 6, 7, 8, 10, 11, 12, 1, 2, 3, 4], inplace=True)\n",
    "a['y'].replace([\"no\", \"yes\"],\n",
    "                        [0,1], inplace=True)\n",
    "X = a.drop([\"y\"], axis=1)\n",
    "y = a[\"y\"]"
   ]
  },
  {
   "cell_type": "code",
   "execution_count": 7,
   "id": "0febaaf4",
   "metadata": {},
   "outputs": [],
   "source": [
    "kf = KFold(n_splits=5)\n",
    "d = {}\n",
    "for i, (train_index, test_index) in enumerate(kf.split(X)):\n",
    "    d[\"train{0}\".format(i)] = train_index\n",
    "    d[\"test{0}\".format(i)] = test_index"
   ]
  },
  {
   "cell_type": "code",
   "execution_count": 8,
   "id": "7c54faa8",
   "metadata": {},
   "outputs": [],
   "source": [
    "f1 = []\n",
    "accuracy = []\n",
    "conf_matrix = []\n",
    "for i in range(5):\n",
    "    train = X.loc[d[\"train{0}\".format(i)]]\n",
    "    test = X.loc[d[\"test{0}\".format(i)]]\n",
    "    y_train = y[d[\"train{0}\".format(i)]]\n",
    "    y_test = y[d[\"test{0}\".format(i)]]\n",
    "    y_train = y_train.reset_index(drop=True)\n",
    "    ind = []\n",
    "    for j in range(32000):\n",
    "        if y_train[j] == 1:\n",
    "            ind.append(j)\n",
    "    new_X = train.iloc[ind]\n",
    "    ind1 = []\n",
    "    for k in range(32000):\n",
    "        if y_train[k] == 0:\n",
    "            ind1.append(k)\n",
    "    new_X1 = train.iloc[ind1]\n",
    "    neg_sample = 8000-len(ind)\n",
    "    new_X2 = new_X1.sample(n=neg_sample, replace=False, random_state=0)\n",
    "    new_X3 = pd.concat([new_X,new_X2])\n",
    "    y_train = []\n",
    "    for i in range(len(ind)):\n",
    "        y_train.append(1)\n",
    "    for i in range(neg_sample):\n",
    "        y_train.append(0)\n",
    "    clf = RandomForestClassifier(random_state = 0)\n",
    "    clf.fit(new_X3, y_train)\n",
    "    y_pred = clf.predict(test)\n",
    "    f1.append(f1_score(y_test, y_pred))\n",
    "    accuracy.append(clf.score(test, y_test))\n",
    "    conf_matrix.append(confusion_matrix(y_test, y_pred))"
   ]
  },
  {
   "cell_type": "code",
   "execution_count": 9,
   "id": "d5d8828f",
   "metadata": {},
   "outputs": [
    {
     "data": {
      "text/plain": [
       "[0.34764250527797325,\n",
       " 0.5361635220125786,\n",
       " 0.5461254612546125,\n",
       " 0.33875258646172035,\n",
       " 0.4951590594744122]"
      ]
     },
     "execution_count": 9,
     "metadata": {},
     "output_type": "execute_result"
    }
   ],
   "source": [
    "f1"
   ]
  },
  {
   "cell_type": "code",
   "execution_count": 10,
   "id": "550083b1",
   "metadata": {},
   "outputs": [
    {
     "data": {
      "text/plain": [
       "[0.884125, 0.92625, 0.923125, 0.720375, 0.863125]"
      ]
     },
     "execution_count": 10,
     "metadata": {},
     "output_type": "execute_result"
    }
   ],
   "source": [
    "accuracy"
   ]
  },
  {
   "cell_type": "code",
   "execution_count": null,
   "id": "a2f66e6a",
   "metadata": {},
   "outputs": [],
   "source": []
  }
 ],
 "metadata": {
  "kernelspec": {
   "display_name": "Python 3 (ipykernel)",
   "language": "python",
   "name": "python3"
  },
  "language_info": {
   "codemirror_mode": {
    "name": "ipython",
    "version": 3
   },
   "file_extension": ".py",
   "mimetype": "text/x-python",
   "name": "python",
   "nbconvert_exporter": "python",
   "pygments_lexer": "ipython3",
   "version": "3.9.12"
  }
 },
 "nbformat": 4,
 "nbformat_minor": 5
}
