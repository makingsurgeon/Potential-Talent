{
 "cells": [
  {
   "cell_type": "code",
   "execution_count": 26,
   "id": "b68983e4-77a5-4ca6-aaed-c3ed5847b85a",
   "metadata": {},
   "outputs": [],
   "source": [
    "import pandas as pd"
   ]
  },
  {
   "cell_type": "code",
   "execution_count": 27,
   "id": "8f9320b2-3f32-4a09-9959-db09b74c2777",
   "metadata": {},
   "outputs": [],
   "source": [
    "a = pd.read_csv(\"potential-talents - Aspiring human resources - seeking human resources.csv\", header = 0)"
   ]
  },
  {
   "cell_type": "code",
   "execution_count": 28,
   "id": "dbe8904f-186e-4d1a-b69c-f093951c6a40",
   "metadata": {},
   "outputs": [],
   "source": [
    "b = a[\"job_title\"].str.replace('HR', 'Human Resources', regex=True)"
   ]
  },
  {
   "cell_type": "code",
   "execution_count": 30,
   "id": "48303df7-65a0-45f5-928d-6b3b9664e815",
   "metadata": {},
   "outputs": [],
   "source": [
    "c = []\n",
    "for i in range(len(b)):\n",
    "    c.append(b[i])"
   ]
  },
  {
   "cell_type": "code",
   "execution_count": 32,
   "id": "3a82dc5c-1195-4eb3-a2b6-aa5432693c34",
   "metadata": {},
   "outputs": [],
   "source": [
    "from sklearn.feature_extraction.text import TfidfVectorizer"
   ]
  },
  {
   "cell_type": "code",
   "execution_count": 33,
   "id": "ead2084b-ff72-4e27-b54a-adda4671d862",
   "metadata": {},
   "outputs": [],
   "source": [
    "vect = TfidfVectorizer(min_df=1, stop_words=\"english\") "
   ]
  },
  {
   "cell_type": "code",
   "execution_count": 34,
   "id": "7285f6c4-2f19-4076-99ff-f020cbf36ee0",
   "metadata": {},
   "outputs": [],
   "source": [
    "c.append(\"Aspiring human resources\")\n",
    "c.append(\"seeking human resources\")"
   ]
  },
  {
   "cell_type": "code",
   "execution_count": 35,
   "id": "2fd7d510-d2a3-4279-8941-8e4ce74e0898",
   "metadata": {},
   "outputs": [],
   "source": [
    "tfidf = vect.fit_transform(c) "
   ]
  },
  {
   "cell_type": "code",
   "execution_count": 36,
   "id": "59144b10-258a-40a3-b560-4e151c5f68d1",
   "metadata": {},
   "outputs": [],
   "source": [
    "pairwise_similarity = tfidf * tfidf.T"
   ]
  },
  {
   "cell_type": "code",
   "execution_count": 37,
   "id": "ea71b3f3-bcb6-4034-a8a2-d8dfb118c3a5",
   "metadata": {},
   "outputs": [],
   "source": [
    "r = pairwise_similarity[-2:, :].toarray()"
   ]
  },
  {
   "cell_type": "code",
   "execution_count": 38,
   "id": "0dd85ffd-8a4f-47c3-8662-8ce5a2ac9df0",
   "metadata": {},
   "outputs": [],
   "source": [
    "r1 = r[0]\n",
    "r2 = r[1]"
   ]
  },
  {
   "cell_type": "code",
   "execution_count": 39,
   "id": "11b56e73-ecd2-4e03-987e-b6e51034bcb7",
   "metadata": {},
   "outputs": [],
   "source": [
    "r1 = r1[:104]"
   ]
  },
  {
   "cell_type": "code",
   "execution_count": 40,
   "id": "07468002-5f02-4c26-a416-df7f90894277",
   "metadata": {},
   "outputs": [],
   "source": [
    "r2 = r2[:104]"
   ]
  },
  {
   "cell_type": "code",
   "execution_count": 44,
   "id": "cea221c9-2889-47f8-8562-fadd74a33ec6",
   "metadata": {},
   "outputs": [],
   "source": [
    "r3 = r1+r2"
   ]
  },
  {
   "cell_type": "code",
   "execution_count": 59,
   "id": "2a53347c-7f4e-46a2-884a-e3bf57b901df",
   "metadata": {},
   "outputs": [],
   "source": [
    "d = a[\"connection\"].str.replace('500+ ', '500', regex=False)"
   ]
  },
  {
   "cell_type": "code",
   "execution_count": 61,
   "id": "8e2af3cf-0f2c-4bbe-ae27-b107be85f35c",
   "metadata": {},
   "outputs": [],
   "source": [
    "d = d.astype(\"int\")"
   ]
  },
  {
   "cell_type": "code",
   "execution_count": 62,
   "id": "d403ce3f-00a6-48ed-9b5f-1c39c8ff9d67",
   "metadata": {},
   "outputs": [
    {
     "data": {
      "text/plain": [
       "0       85\n",
       "1      500\n",
       "2       44\n",
       "3      500\n",
       "4      500\n",
       "      ... \n",
       "99     103\n",
       "100    500\n",
       "101     49\n",
       "102    500\n",
       "103    500\n",
       "Name: connection, Length: 104, dtype: int64"
      ]
     },
     "execution_count": 62,
     "metadata": {},
     "output_type": "execute_result"
    }
   ],
   "source": [
    "d"
   ]
  },
  {
   "cell_type": "code",
   "execution_count": 63,
   "id": "4f850a71-b783-4fcb-affe-17322853d235",
   "metadata": {},
   "outputs": [],
   "source": [
    "e = []\n",
    "for i in range(len(d)):\n",
    "    if d[i] == 500:\n",
    "        e.append(len(d))\n",
    "    else:\n",
    "        e.append(d[i]/500*len(d))"
   ]
  },
  {
   "cell_type": "code",
   "execution_count": 65,
   "id": "e6697a5d-c575-4597-b944-840f3f6df1d8",
   "metadata": {},
   "outputs": [],
   "source": [
    "import scipy.stats as ss"
   ]
  },
  {
   "cell_type": "code",
   "execution_count": 93,
   "id": "ba410b57-3c55-443a-a2ba-61cd2f38037e",
   "metadata": {},
   "outputs": [],
   "source": [
    "e1 = ss.rankdata(r3)"
   ]
  },
  {
   "cell_type": "code",
   "execution_count": 94,
   "id": "097525ba-5812-4d50-9f64-fd2805ed4b5a",
   "metadata": {},
   "outputs": [
    {
     "data": {
      "text/plain": [
       "104"
      ]
     },
     "execution_count": 94,
     "metadata": {},
     "output_type": "execute_result"
    }
   ],
   "source": [
    "len(e1)"
   ]
  },
  {
   "cell_type": "code",
   "execution_count": 68,
   "id": "bd1d6a92-5c9d-42ce-9498-75de3292f48f",
   "metadata": {},
   "outputs": [],
   "source": [
    "final_r = e1+e"
   ]
  },
  {
   "cell_type": "code",
   "execution_count": 69,
   "id": "e5718e38-e2a5-42fd-833a-d4e190433ed6",
   "metadata": {},
   "outputs": [
    {
     "data": {
      "text/plain": [
       "array([ 72.68 , 120.5  , 109.152, 120.5  , 120.5  ,  94.208,  89.688,\n",
       "       174.   ,  89.688, 188.5  ,  16.916, 138.5  , 149.5  ,  72.68 ,\n",
       "        72.68 , 120.5  , 109.152, 120.5  ,  72.68 , 120.5  , 109.152,\n",
       "       120.5  , 120.5  ,  94.208,  89.688, 174.   , 191.5  , 171.62 ,\n",
       "       191.5  , 171.62 ,  72.68 , 120.5  , 109.152, 120.5  , 120.5  ,\n",
       "        94.208,  89.688, 174.   ,  89.688, 188.5  ,  16.916, 138.5  ,\n",
       "       149.5  ,  72.68 , 120.5  , 109.152, 120.5  , 120.5  ,  94.208,\n",
       "        89.688, 174.   ,  89.688, 188.5  ,  16.916, 138.5  , 149.5  ,\n",
       "        72.68 , 109.152, 120.5  ,  94.208, 174.   , 188.5  ,  16.916,\n",
       "       138.5  , 149.5  ,  77.856, 152.   , 165.   , 143.   ,  67.056,\n",
       "       167.   ,  74.04 , 105.456,  85.328, 153.   ,  87.096, 122.072,\n",
       "       167.   ,  61.456,  27.316, 136.64 ,  95.192,  95.744,  51.4  ,\n",
       "       120.5  ,  17.332,  24.82 ,  68.744, 123.592,  48.74 ,  24.612,\n",
       "        51.312,  18.372, 153.32 ,  28.356,  20.452, 114.768,  17.332,\n",
       "        98.984, 102.424, 167.   ,  26.692, 120.5  , 120.5  ])"
      ]
     },
     "execution_count": 69,
     "metadata": {},
     "output_type": "execute_result"
    }
   ],
   "source": [
    "final_r"
   ]
  },
  {
   "cell_type": "code",
   "execution_count": 70,
   "id": "9deb3469-81d3-4200-9454-bc558659d71a",
   "metadata": {},
   "outputs": [],
   "source": [
    "e2 = ss.rankdata(final_r)"
   ]
  },
  {
   "cell_type": "code",
   "execution_count": 71,
   "id": "2c1719f5-8ad3-45a8-9682-3caa4ec452c0",
   "metadata": {},
   "outputs": [
    {
     "data": {
      "text/plain": [
       "array([ 23. ,  63.5,  50.5,  63.5,  63.5,  40. ,  34. ,  96. ,  34. ,\n",
       "       100.5,   2.5,  77.5,  82.5,  23. ,  23. ,  63.5,  50.5,  63.5,\n",
       "        23. ,  63.5,  50.5,  63.5,  63.5,  40. ,  34. ,  96. , 103.5,\n",
       "        92.5, 103.5,  92.5,  23. ,  63.5,  50.5,  63.5,  63.5,  40. ,\n",
       "        34. ,  96. ,  34. , 100.5,   2.5,  77.5,  82.5,  23. ,  63.5,\n",
       "        50.5,  63.5,  63.5,  40. ,  34. ,  96. ,  34. , 100.5,   2.5,\n",
       "        77.5,  82.5,  23. ,  50.5,  63.5,  40. ,  96. , 100.5,   2.5,\n",
       "        77.5,  82.5,  28. ,  85. ,  88. ,  80. ,  18. ,  90. ,  27. ,\n",
       "        47. ,  29. ,  86. ,  30. ,  73. ,  90. ,  17. ,  12. ,  75. ,\n",
       "        43. ,  44. ,  16. ,  63.5,   5.5,  10. ,  19. ,  74. ,  14. ,\n",
       "         9. ,  15. ,   7. ,  87. ,  13. ,   8. ,  54. ,   5.5,  45. ,\n",
       "        46. ,  90. ,  11. ,  63.5,  63.5])"
      ]
     },
     "execution_count": 71,
     "metadata": {},
     "output_type": "execute_result"
    }
   ],
   "source": [
    "e2"
   ]
  },
  {
   "cell_type": "code",
   "execution_count": 114,
   "id": "41229222-815b-43f9-8073-8ef22eed9f43",
   "metadata": {},
   "outputs": [],
   "source": [
    "import numpy as np\n",
    "v = np.zeros(len(e2))"
   ]
  },
  {
   "cell_type": "code",
   "execution_count": 115,
   "id": "c962a08a-5e36-4ac1-a8e7-3e95617710f3",
   "metadata": {},
   "outputs": [],
   "source": [
    "v[7] = 208"
   ]
  },
  {
   "cell_type": "code",
   "execution_count": 97,
   "id": "6e10e903-c6b9-440a-a054-b32fb6c2a2e7",
   "metadata": {},
   "outputs": [],
   "source": [
    "v1 = pairwise_similarity[7,:].toarray()"
   ]
  },
  {
   "cell_type": "code",
   "execution_count": 101,
   "id": "40c624fb-faa3-4528-b355-8c3f4d0208a5",
   "metadata": {},
   "outputs": [],
   "source": [
    "v1 = v1[:104]"
   ]
  },
  {
   "cell_type": "code",
   "execution_count": 102,
   "id": "c1a13be5-01ab-4cf6-92b5-46e8364d49b2",
   "metadata": {},
   "outputs": [
    {
     "data": {
      "text/plain": [
       "array([0.07053719, 0.        , 0.1919098 , 0.        , 0.        ,\n",
       "       0.61327172, 0.10897634, 1.        , 0.10897634, 0.14630621,\n",
       "       0.        , 0.04798383, 0.09298207, 0.07053719, 0.07053719,\n",
       "       0.        , 0.1919098 , 0.        , 0.07053719, 0.        ,\n",
       "       0.1919098 , 0.        , 0.        , 0.61327172, 0.10897634,\n",
       "       1.        , 0.09904619, 0.13956892, 0.09904619, 0.13956892,\n",
       "       0.07053719, 0.        , 0.1919098 , 0.        , 0.        ,\n",
       "       0.61327172, 0.10897634, 1.        , 0.10897634, 0.14630621,\n",
       "       0.        , 0.04798383, 0.09298207, 0.07053719, 0.        ,\n",
       "       0.1919098 , 0.        , 0.        , 0.61327172, 0.10897634,\n",
       "       1.        , 0.10897634, 0.14630621, 0.        , 0.04798383,\n",
       "       0.09298207, 0.07053719, 0.1919098 , 0.        , 0.61327172,\n",
       "       1.        , 0.14630621, 0.        , 0.04798383, 0.09298207,\n",
       "       0.08675925, 0.09905839, 0.41791391, 0.06984249, 0.05374563,\n",
       "       0.12164105, 0.0934696 , 0.19358172, 0.22652532, 0.05183297,\n",
       "       0.0542269 , 0.05161153, 0.12164105, 0.0741389 , 0.        ,\n",
       "       0.33566969, 0.07089169, 0.07158273, 0.07229773, 0.        ,\n",
       "       0.15017567, 0.        , 0.12384567, 0.10855366, 0.        ,\n",
       "       0.        , 0.        , 0.        , 0.07343331, 0.        ,\n",
       "       0.        , 0.1919098 , 0.        , 0.13521544, 0.10328538,\n",
       "       0.12164105, 0.        , 0.        , 0.        ])"
      ]
     },
     "execution_count": 102,
     "metadata": {},
     "output_type": "execute_result"
    }
   ],
   "source": [
    "v1"
   ]
  },
  {
   "cell_type": "code",
   "execution_count": 103,
   "id": "ff37c984-3293-4925-b26d-07c1cc0427e8",
   "metadata": {},
   "outputs": [],
   "source": [
    "v2 = ss.rankdata(v1)"
   ]
  },
  {
   "cell_type": "code",
   "execution_count": 108,
   "id": "caef3a42-ce44-4ac1-9812-8159ac4473f3",
   "metadata": {},
   "outputs": [
    {
     "data": {
      "text/plain": [
       "array([ 45. ,  16.5,  87. ,  16.5,  16.5,  97. ,  68. , 102. ,  68. ,\n",
       "        80.5,  16.5,  34.5,  56.5,  45. ,  45. ,  16.5,  87. ,  16.5,\n",
       "        45. ,  16.5,  87. ,  16.5,  16.5,  97. ,  68. , 102. ,  60.5,\n",
       "        77.5,  60.5,  77.5,  45. ,  16.5,  87. ,  16.5,  16.5,  97. ,\n",
       "        68. , 102. ,  68. ,  80.5,  16.5,  34.5,  56.5,  45. ,  16.5,\n",
       "        87. ,  16.5,  16.5,  97. ,  68. , 102. ,  68. ,  80.5,  16.5,\n",
       "        34.5,  56.5,  45. ,  87. ,  16.5,  97. , 102. ,  80.5,  16.5,\n",
       "        34.5,  56.5,  54. ,  62. ,  94. ,  41. ,  39. ,  73. ,  59. ,\n",
       "        91. ,  92. ,  38. ,  40. ,  37. ,  73. ,  53. ,  16.5,  93. ,\n",
       "        49. ,  50. ,  51. ,  16.5,  83. ,  16.5,  75. ,  64. ,  16.5,\n",
       "        16.5,  16.5,  16.5,  52. ,  16.5,  16.5,  87. ,  16.5,  76. ,\n",
       "        63. ,  73. ,  16.5,  16.5,  16.5])"
      ]
     },
     "execution_count": 108,
     "metadata": {},
     "output_type": "execute_result"
    }
   ],
   "source": [
    "v2"
   ]
  },
  {
   "cell_type": "code",
   "execution_count": 109,
   "id": "b05a610a-caab-407b-8867-c820b0074169",
   "metadata": {},
   "outputs": [],
   "source": [
    "final_r1 = v2+e"
   ]
  },
  {
   "cell_type": "code",
   "execution_count": 110,
   "id": "3fa8b1a9-bb72-4703-b8e7-8af47e187a82",
   "metadata": {},
   "outputs": [
    {
     "data": {
      "text/plain": [
       "array([ 62.68 , 120.5  ,  96.152, 120.5  , 120.5  ,  97.208,  80.688,\n",
       "       206.   ,  80.688, 184.5  ,  16.916, 138.5  , 160.5  ,  62.68 ,\n",
       "        62.68 , 120.5  ,  96.152, 120.5  ,  62.68 , 120.5  ,  96.152,\n",
       "       120.5  , 120.5  ,  97.208,  80.688, 206.   , 164.5  , 158.62 ,\n",
       "       164.5  , 158.62 ,  62.68 , 120.5  ,  96.152, 120.5  , 120.5  ,\n",
       "        97.208,  80.688, 206.   ,  80.688, 184.5  ,  16.916, 138.5  ,\n",
       "       160.5  ,  62.68 , 120.5  ,  96.152, 120.5  , 120.5  ,  97.208,\n",
       "        80.688, 206.   ,  80.688, 184.5  ,  16.916, 138.5  , 160.5  ,\n",
       "        62.68 ,  96.152, 120.5  ,  97.208, 206.   , 184.5  ,  16.916,\n",
       "       138.5  , 160.5  ,  65.856, 166.   , 198.   , 145.   ,  56.056,\n",
       "       177.   ,  60.04 ,  92.456,  95.328, 142.   ,  84.096, 122.072,\n",
       "       177.   ,  54.456,  27.316, 187.64 ,  85.192, 105.744,  61.4  ,\n",
       "       120.5  ,  83.832,  24.82 ,  78.744, 136.592,  48.74 ,  24.612,\n",
       "        29.812,  18.372, 138.32 ,  28.356,  20.452, 101.768,  17.332,\n",
       "        85.984,  84.424, 177.   ,  26.692, 120.5  , 120.5  ])"
      ]
     },
     "execution_count": 110,
     "metadata": {},
     "output_type": "execute_result"
    }
   ],
   "source": [
    "final_r1"
   ]
  },
  {
   "cell_type": "code",
   "execution_count": 116,
   "id": "5364d07d-93b7-4dff-b1af-f9a0f9821f37",
   "metadata": {},
   "outputs": [],
   "source": [
    "for i in range(7):\n",
    "    v[i] = final_r1[i]\n",
    "    "
   ]
  },
  {
   "cell_type": "code",
   "execution_count": 117,
   "id": "efe31361-304a-401b-b69f-767f6960f5f8",
   "metadata": {},
   "outputs": [],
   "source": [
    "for i in range(8,104):\n",
    "    v[i] = final_r1[i]"
   ]
  },
  {
   "cell_type": "code",
   "execution_count": 118,
   "id": "93983d21-22f2-430e-9e48-f4a750d702be",
   "metadata": {},
   "outputs": [
    {
     "data": {
      "text/plain": [
       "array([ 62.68 , 120.5  ,  96.152, 120.5  , 120.5  ,  97.208,  80.688,\n",
       "       208.   ,  80.688, 184.5  ,  16.916, 138.5  , 160.5  ,  62.68 ,\n",
       "        62.68 , 120.5  ,  96.152, 120.5  ,  62.68 , 120.5  ,  96.152,\n",
       "       120.5  , 120.5  ,  97.208,  80.688, 206.   , 164.5  , 158.62 ,\n",
       "       164.5  , 158.62 ,  62.68 , 120.5  ,  96.152, 120.5  , 120.5  ,\n",
       "        97.208,  80.688, 206.   ,  80.688, 184.5  ,  16.916, 138.5  ,\n",
       "       160.5  ,  62.68 , 120.5  ,  96.152, 120.5  , 120.5  ,  97.208,\n",
       "        80.688, 206.   ,  80.688, 184.5  ,  16.916, 138.5  , 160.5  ,\n",
       "        62.68 ,  96.152, 120.5  ,  97.208, 206.   , 184.5  ,  16.916,\n",
       "       138.5  , 160.5  ,  65.856, 166.   , 198.   , 145.   ,  56.056,\n",
       "       177.   ,  60.04 ,  92.456,  95.328, 142.   ,  84.096, 122.072,\n",
       "       177.   ,  54.456,  27.316, 187.64 ,  85.192, 105.744,  61.4  ,\n",
       "       120.5  ,  83.832,  24.82 ,  78.744, 136.592,  48.74 ,  24.612,\n",
       "        29.812,  18.372, 138.32 ,  28.356,  20.452, 101.768,  17.332,\n",
       "        85.984,  84.424, 177.   ,  26.692, 120.5  , 120.5  ])"
      ]
     },
     "execution_count": 118,
     "metadata": {},
     "output_type": "execute_result"
    }
   ],
   "source": [
    "v"
   ]
  },
  {
   "cell_type": "code",
   "execution_count": 119,
   "id": "614a3d61-dbb5-45d7-b041-3e63dabc3ff0",
   "metadata": {},
   "outputs": [
    {
     "data": {
      "text/plain": [
       "array([ 22. ,  63.5,  44.5,  63.5,  63.5,  50. ,  31. , 104. ,  31. ,\n",
       "        95.5,   2.5,  77.5,  85.5,  22. ,  22. ,  63.5,  44.5,  63.5,\n",
       "        22. ,  63.5,  44.5,  63.5,  63.5,  50. ,  31. , 101.5,  88.5,\n",
       "        82.5,  88.5,  82.5,  22. ,  63.5,  44.5,  63.5,  63.5,  50. ,\n",
       "        31. , 101.5,  31. ,  95.5,   2.5,  77.5,  85.5,  22. ,  63.5,\n",
       "        44.5,  63.5,  63.5,  50. ,  31. , 101.5,  31. ,  95.5,   2.5,\n",
       "        77.5,  85.5,  22. ,  44.5,  63.5,  50. , 101.5,  95.5,   2.5,\n",
       "        77.5,  85.5,  26. ,  90. ,  99. ,  81. ,  16. ,  92. ,  17. ,\n",
       "        40. ,  41. ,  80. ,  36. ,  73. ,  92. ,  15. ,  11. ,  98. ,\n",
       "        38. ,  54. ,  18. ,  63.5,  35. ,   9. ,  27. ,  74. ,  14. ,\n",
       "         8. ,  13. ,   6. ,  75. ,  12. ,   7. ,  53. ,   5. ,  39. ,\n",
       "        37. ,  92. ,  10. ,  63.5,  63.5])"
      ]
     },
     "execution_count": 119,
     "metadata": {},
     "output_type": "execute_result"
    }
   ],
   "source": [
    "ss.rankdata(v)"
   ]
  },
  {
   "cell_type": "code",
   "execution_count": null,
   "id": "94340911-42dd-4159-86e9-d289b3235ced",
   "metadata": {},
   "outputs": [],
   "source": []
  }
 ],
 "metadata": {
  "kernelspec": {
   "display_name": "Python 3 (ipykernel)",
   "language": "python",
   "name": "python3"
  },
  "language_info": {
   "codemirror_mode": {
    "name": "ipython",
    "version": 3
   },
   "file_extension": ".py",
   "mimetype": "text/x-python",
   "name": "python",
   "nbconvert_exporter": "python",
   "pygments_lexer": "ipython3",
   "version": "3.8.17"
  }
 },
 "nbformat": 4,
 "nbformat_minor": 5
}
